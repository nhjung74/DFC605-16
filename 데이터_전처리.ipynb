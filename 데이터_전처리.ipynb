{
  "nbformat": 4,
  "nbformat_minor": 0,
  "metadata": {
    "colab": {
      "name": "데이터 전처리.ipynb",
      "provenance": [],
      "authorship_tag": "ABX9TyPOLkGwqEzhP5MCHH/APdd+"
    },
    "kernelspec": {
      "name": "python3",
      "display_name": "Python 3"
    }
  },
  "cells": [
    {
      "cell_type": "code",
      "metadata": {
        "id": "jxS63Bz6Cmf8",
        "colab_type": "code",
        "colab": {}
      },
      "source": [
        "import os, re, glob\n",
        "import cv2\n",
        "import numpy as np\n",
        "from sklearn.model_selection import train_test_split\n",
        "from PIL import Image\n",
        "from matplotlib import pyplot as plt\n",
        "\n",
        "  \n",
        "groups_folder_path = 'C:/dataset/'\n",
        "categories = [\"base\",\"base-label\",\"korea\",\"korea-label\"]\n",
        " \n",
        "num_classes = len(categories)\n",
        "\n",
        "i = 0\n",
        "\n",
        "\n",
        "for idex, categorie in enumerate(categories):\n",
        "    label = [0 for i in range(num_classes)]\n",
        "    label[idex] = 1\n",
        "    image_dir = groups_folder_path + categorie + '/'\n",
        "    arrtest = []\n",
        "    for top, dir, f in os.walk(image_dir):\n",
        "        for filename in f:\n",
        "            print(image_dir+filename)\n",
        "            img = Image.open(image_dir+filename)\n",
        "            data = np.array(img, dtype='float32' )\n",
        "            arrtest.append(data)\n",
        "            #print(arrtest)\n",
        "\n",
        "    arrtest = np.expand_dims(arrtest, axis=0)\n",
        "    arrtest.shape\n",
        "    arrtest /= 255.\n",
        "\n",
        "    arrtest = np.squeeze(arrtest, axis=0)\n",
        "    #print(arrtest.shape)\n",
        "    #print(arrtest)\n",
        "\n",
        "    np.save(categorie + '.npy', arrtest)\n",
        "\n",
        "#imgs = np.load('arrtest.npy', allow_pickle=True).astype(np.float32) / 255.\n",
        "#print(imgs.shape)"
      ],
      "execution_count": 0,
      "outputs": []
    },
    {
      "cell_type": "code",
      "metadata": {
        "id": "QM3FyPn1DvY5",
        "colab_type": "code",
        "colab": {
          "base_uri": "https://localhost:8080/",
          "height": 935
        },
        "outputId": "131d6072-2984-468e-fd17-81f4979c56ba"
      },
      "source": [
        "from keras.preprocessing import image\n",
        "import numpy as np\n",
        "img = image.load_img(\"1.PNG\", target_size=(1280, 780))\n",
        "img_tensor = image.img_to_array(img)\n",
        "\n",
        "\n",
        "img_tensor = np.expand_dims(img_tensor, axis=0)\n",
        "img_tensor.shape\n",
        "img_tensor /= 255.\n",
        "\n",
        "np.save('test.npy', img_tensor)\n",
        "print(img_tensor)\n",
        "print(img_tensor.shape)\n",
        "\n",
        "imgs = np.load('test.npy', allow_pickle=True).astype(np.float32) / 255.\n",
        "print(imgs.shape)\n"
      ],
      "execution_count": 22,
      "outputs": [
        {
          "output_type": "stream",
          "text": [
            "[[[[0.972549   0.972549   0.972549  ]\n",
            "   [0.972549   0.972549   0.972549  ]\n",
            "   [0.9882353  0.99215686 0.99607843]\n",
            "   ...\n",
            "   [1.         1.         1.        ]\n",
            "   [1.         1.         1.        ]\n",
            "   [1.         1.         1.        ]]\n",
            "\n",
            "  [[0.972549   0.972549   0.972549  ]\n",
            "   [0.972549   0.972549   0.972549  ]\n",
            "   [0.9882353  0.99215686 0.99607843]\n",
            "   ...\n",
            "   [1.         1.         1.        ]\n",
            "   [1.         1.         1.        ]\n",
            "   [1.         1.         1.        ]]\n",
            "\n",
            "  [[0.972549   0.9764706  0.96862745]\n",
            "   [0.98039216 0.98039216 0.9882353 ]\n",
            "   [0.8901961  0.89411765 0.79607844]\n",
            "   ...\n",
            "   [1.         1.         1.        ]\n",
            "   [1.         1.         1.        ]\n",
            "   [1.         1.         1.        ]]\n",
            "\n",
            "  ...\n",
            "\n",
            "  [[0.26666668 0.44705883 0.76862746]\n",
            "   [0.26666668 0.44705883 0.76862746]\n",
            "   [0.26666668 0.44705883 0.76862746]\n",
            "   ...\n",
            "   [1.         1.         1.        ]\n",
            "   [1.         1.         1.        ]\n",
            "   [1.         1.         1.        ]]\n",
            "\n",
            "  [[1.         1.         1.        ]\n",
            "   [1.         1.         1.        ]\n",
            "   [1.         1.         1.        ]\n",
            "   ...\n",
            "   [0.26666668 0.44705883 0.76862746]\n",
            "   [1.         1.         1.        ]\n",
            "   [0.26666668 0.44705883 0.76862746]]\n",
            "\n",
            "  [[1.         1.         1.        ]\n",
            "   [1.         1.         1.        ]\n",
            "   [1.         1.         1.        ]\n",
            "   ...\n",
            "   [0.26666668 0.44705883 0.76862746]\n",
            "   [1.         1.         1.        ]\n",
            "   [0.26666668 0.44705883 0.76862746]]]]\n",
            "(1, 1280, 780, 3)\n",
            "(1, 1280, 780, 3)\n"
          ],
          "name": "stdout"
        }
      ]
    },
    {
      "cell_type": "code",
      "metadata": {
        "id": "YWSbPcPOSYYY",
        "colab_type": "code",
        "colab": {}
      },
      "source": [
        "img_files = []\n",
        "for root, dirs, files in os.walk(\"\", topdown=False):\n",
        "    for name in files:\n",
        "        img_files.append(os.path.join(root, name))\n",
        "img_files = sorted(img_files)\n",
        "\n",
        "y_pred = []\n",
        "y_test = []\n",
        "\n",
        "for img_path in tqdm(img_files):\n",
        "    # print(img_path)\n",
        "    img = image.load_img(img_path, target_size=(224, 224))\n",
        "    x = image.img_to_array(img)\n",
        "    preds = model.predict(x[None, :, :, :])\n",
        "    decoded = decode_predictions(preds, top=1)\n",
        "    pred_label = decoded[0][0][0]\n",
        "    # print(pred_label)\n",
        "    y_pred.append(pred_label)\n",
        "    tokens = img_path.split(os.pathsep)\n",
        "    class_id = int(tokens[-2])\n",
        "    # print(str(class_id))\n",
        "    y_test.append(class_id)\n",
        "\n",
        "return y_pred, y_test "
      ],
      "execution_count": 0,
      "outputs": []
    },
    {
      "cell_type": "code",
      "metadata": {
        "id": "YQFiDLBXF3vL",
        "colab_type": "code",
        "colab": {}
      },
      "source": [
        "#img_array = np.load('test.npy')\n",
        "\n",
        "#files.download('test.npy')"
      ],
      "execution_count": 0,
      "outputs": []
    }
  ]
}